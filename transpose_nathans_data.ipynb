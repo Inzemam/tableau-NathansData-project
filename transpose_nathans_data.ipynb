{
 "cells": [
  {
   "cell_type": "code",
   "execution_count": null,
   "metadata": {},
   "outputs": [],
   "source": [
    "\n",
    "f_in = open(\"hot-dog-places.csv\", 'r')\n",
    "\n",
    "lines = f_in.readlines()\n",
    "f_in.close()\n",
    "f_out = open(\"nathans_top_three_2017.csv\", 'w')\n",
    "f_out.write(\"Year, First, Second, Third\\n\")\n",
    "\n",
    "years = lines[0].split(\",\")\n",
    "first = lines[1].split(\",\")\n",
    "second = lines[2].split(\",\")\n",
    "third = lines[3].split(\",\")\n",
    "\n",
    "print(years)\n",
    "\n",
    "print(\"'\"+years[len(years)-1]+\"'\")\n",
    "\n",
    "\n",
    "#for i in range(len(years)):\n",
    "#    print(years[i]+\",\"+first[i]+\",\"+second[i]+\",\"+third[i])\n",
    "#    f_out.write(years[i]+\",\"+first[i]+\",\"+second[i]+\",\"+third[i]+\"\\n\")\n",
    "    \n",
    "f_out.close()\n",
    "\n",
    "        "
   ]
  },
  {
   "cell_type": "code",
   "execution_count": null,
   "metadata": {
    "collapsed": true
   },
   "outputs": [],
   "source": []
  }
 ],
 "metadata": {
  "kernelspec": {
   "display_name": "Python 3",
   "language": "python",
   "name": "python3"
  },
  "language_info": {
   "codemirror_mode": {
    "name": "ipython",
    "version": 3
   },
   "file_extension": ".py",
   "mimetype": "text/x-python",
   "name": "python",
   "nbconvert_exporter": "python",
   "pygments_lexer": "ipython3",
   "version": "3.6.3"
  }
 },
 "nbformat": 4,
 "nbformat_minor": 2
}
